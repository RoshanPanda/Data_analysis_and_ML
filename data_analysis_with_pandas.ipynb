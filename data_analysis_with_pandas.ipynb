{
  "nbformat": 4,
  "nbformat_minor": 0,
  "metadata": {
    "colab": {
      "name": "data_analysis_with_pandas.ipynb",
      "version": "0.3.2",
      "provenance": [],
      "collapsed_sections": [],
      "include_colab_link": true
    },
    "kernelspec": {
      "name": "python3",
      "display_name": "Python 3"
    }
  },
  "cells": [
    {
      "cell_type": "markdown",
      "metadata": {
        "id": "view-in-github",
        "colab_type": "text"
      },
      "source": [
        "<a href=\"https://colab.research.google.com/github/RoshanPanda/Data_analysis_and_ML/blob/master/data_analysis_with_pandas.ipynb\" target=\"_parent\"><img src=\"https://colab.research.google.com/assets/colab-badge.svg\" alt=\"Open In Colab\"/></a>"
      ]
    },
    {
      "metadata": {
        "id": "N5p6PFlxWZfP",
        "colab_type": "code",
        "colab": {
          "base_uri": "https://localhost:8080/",
          "height": 34
        },
        "outputId": "6ceb3300-e432-44ce-90c5-2fe3e8949f0e"
      },
      "cell_type": "code",
      "source": [
        "cd /root/.kaggle"
      ],
      "execution_count": 5,
      "outputs": [
        {
          "output_type": "stream",
          "text": [
            "/root/.kaggle\n"
          ],
          "name": "stdout"
        }
      ]
    },
    {
      "metadata": {
        "id": "bKWmp8GcWlQ_",
        "colab_type": "code",
        "colab": {
          "base_uri": "https://localhost:8080/",
          "height": 204
        },
        "outputId": "8cba2b07-90e3-48e6-efc8-3d390300f450"
      },
      "cell_type": "code",
      "source": [
        "ls -lart"
      ],
      "execution_count": 25,
      "outputs": [
        {
          "output_type": "stream",
          "text": [
            "total 55708\n",
            "-r-xr-xr-x 1 root root      903 Jan  1  2000  \u001b[0m\u001b[01;32mREADME.md\u001b[0m*\n",
            "-r-xr-xr-x 1 root root     1697 Jan  1  2000  \u001b[01;32manscombe.json\u001b[0m*\n",
            "drwxr-xr-x 1 root root     4096 Feb 26 17:33  \u001b[01;34m..\u001b[0m/\n",
            "-rw-r--r-- 1 root root  1706430 Feb 26 17:33  california_housing_train.csv\n",
            "-rw-r--r-- 1 root root   301141 Feb 26 17:33  california_housing_test.csv\n",
            "-rw-r--r-- 1 root root 36523880 Feb 26 17:33  mnist_train_small.csv\n",
            "-rw-r--r-- 1 root root 18289443 Feb 26 17:33  mnist_test.csv\n",
            "-rw-r--r-- 1 root root    20265 Mar  2 13:08  us-minimum-wage-by-state-from-1968-to-2017.zip\n",
            "drwxr-xr-x 1 root root     4096 Mar  2 13:13  \u001b[01;34m.\u001b[0m/\n",
            "-rw-r--r-- 1 root root   173762 Mar  2 13:26 'Minimum Wage Data.csv'\n"
          ],
          "name": "stdout"
        }
      ]
    },
    {
      "metadata": {
        "id": "BTScwy67WwW7",
        "colab_type": "code",
        "colab": {}
      },
      "cell_type": "code",
      "source": [
        "from google.colab import files"
      ],
      "execution_count": 0,
      "outputs": []
    },
    {
      "metadata": {
        "id": "bi-HbFOTW9Rd",
        "colab_type": "code",
        "colab": {
          "resources": {
            "http://localhost:8080/nbextensions/google.colab/files.js": {
              "data": "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",
              "ok": true,
              "headers": [
                [
                  "content-type",
                  "application/javascript"
                ]
              ],
              "status": 200,
              "status_text": "OK"
            }
          },
          "base_uri": "https://localhost:8080/",
          "height": 91
        },
        "outputId": "79f0ceb3-fc94-45aa-c4d3-f93384668fc3"
      },
      "cell_type": "code",
      "source": [
        "files.upload()"
      ],
      "execution_count": 8,
      "outputs": [
        {
          "output_type": "display_data",
          "data": {
            "text/html": [
              "\n",
              "     <input type=\"file\" id=\"files-658ad0f9-6be2-4bc3-9ab7-2a20e98b1e29\" name=\"files[]\" multiple disabled />\n",
              "     <output id=\"result-658ad0f9-6be2-4bc3-9ab7-2a20e98b1e29\">\n",
              "      Upload widget is only available when the cell has been executed in the\n",
              "      current browser session. Please rerun this cell to enable.\n",
              "      </output>\n",
              "      <script src=\"/nbextensions/google.colab/files.js\"></script> "
            ],
            "text/plain": [
              "<IPython.core.display.HTML object>"
            ]
          },
          "metadata": {
            "tags": []
          }
        },
        {
          "output_type": "stream",
          "text": [
            "Saving kaggle.json to kaggle.json\n"
          ],
          "name": "stdout"
        },
        {
          "output_type": "execute_result",
          "data": {
            "text/plain": [
              "{'kaggle.json': b'{\"username\":\"roshanpanda\",\"key\":\"daa9b13705ab86d146b95d9e19223c8c\"}'}"
            ]
          },
          "metadata": {
            "tags": []
          },
          "execution_count": 8
        }
      ]
    },
    {
      "metadata": {
        "id": "qRa1iAdTXL06",
        "colab_type": "code",
        "colab": {
          "base_uri": "https://localhost:8080/",
          "height": 34
        },
        "outputId": "4623cd82-26ba-448b-c381-ebe579f1ef72"
      },
      "cell_type": "code",
      "source": [
        "cd ../content/sample_data"
      ],
      "execution_count": 14,
      "outputs": [
        {
          "output_type": "stream",
          "text": [
            "/content/sample_data\n"
          ],
          "name": "stdout"
        }
      ]
    },
    {
      "metadata": {
        "id": "8VObk364XyK8",
        "colab_type": "code",
        "colab": {
          "base_uri": "https://localhost:8080/",
          "height": 105
        },
        "outputId": "2b653d2e-e293-47f1-d45f-5e220eb33b4d"
      },
      "cell_type": "code",
      "source": [
        "!kaggle datasets download -d lislejoem/us-minimum-wage-by-state-from-1968-to-2017"
      ],
      "execution_count": 15,
      "outputs": [
        {
          "output_type": "stream",
          "text": [
            "Warning: Your Kaggle API key is readable by other users on this system! To fix this, you can run 'chmod 600 /root/.kaggle/kaggle.json'\n",
            "Downloading us-minimum-wage-by-state-from-1968-to-2017.zip to /content/sample_data\n",
            "\r  0% 0.00/19.8k [00:00<?, ?B/s]\n",
            "\r100% 19.8k/19.8k [00:00<00:00, 17.5MB/s]\n"
          ],
          "name": "stdout"
        }
      ]
    },
    {
      "metadata": {
        "id": "s2TvmnsfYDB0",
        "colab_type": "code",
        "colab": {}
      },
      "cell_type": "code",
      "source": [
        "from zipfile import ZipFile\n",
        "with ZipFile(\"us-minimum-wage-by-state-from-1968-to-2017.zip\", \"r\") as file:\n",
        "  file.extractall()\n",
        "  file.close()"
      ],
      "execution_count": 0,
      "outputs": []
    },
    {
      "metadata": {
        "id": "AgGLJHvLYT0s",
        "colab_type": "code",
        "colab": {}
      },
      "cell_type": "code",
      "source": [
        "import numpy as np\n",
        "import pandas as pd\n",
        "import matplotlib.pyplot as plt\n",
        "import seaborn as sns\n"
      ],
      "execution_count": 0,
      "outputs": []
    },
    {
      "metadata": {
        "id": "FsvzVIjfbH_C",
        "colab_type": "code",
        "colab": {}
      },
      "cell_type": "code",
      "source": [
        "dataframe=pd.read_csv(\"Minimum Wage Data.csv\",encoding=\"latin\")"
      ],
      "execution_count": 0,
      "outputs": []
    },
    {
      "metadata": {
        "id": "hQTk1q-1bQtv",
        "colab_type": "code",
        "colab": {}
      },
      "cell_type": "code",
      "source": [
        "dataframe.to_csv(\"mimimum_wage.csv\",encoding=\"utf-8\")"
      ],
      "execution_count": 0,
      "outputs": []
    },
    {
      "metadata": {
        "id": "fcGNY36YcvL2",
        "colab_type": "code",
        "colab": {}
      },
      "cell_type": "code",
      "source": [
        "wage_data=pd.read_csv(\"mimimum_wage.csv\")"
      ],
      "execution_count": 0,
      "outputs": []
    },
    {
      "metadata": {
        "id": "DW2aO75sdQUg",
        "colab_type": "code",
        "colab": {
          "base_uri": "https://localhost:8080/",
          "height": 204
        },
        "outputId": "59648c1e-a4eb-41a9-d48c-2e8cd2671a19"
      },
      "cell_type": "code",
      "source": [
        "wage_data.head()"
      ],
      "execution_count": 42,
      "outputs": [
        {
          "output_type": "execute_result",
          "data": {
            "text/html": [
              "<div>\n",
              "<style scoped>\n",
              "    .dataframe tbody tr th:only-of-type {\n",
              "        vertical-align: middle;\n",
              "    }\n",
              "\n",
              "    .dataframe tbody tr th {\n",
              "        vertical-align: top;\n",
              "    }\n",
              "\n",
              "    .dataframe thead th {\n",
              "        text-align: right;\n",
              "    }\n",
              "</style>\n",
              "<table border=\"1\" class=\"dataframe\">\n",
              "  <thead>\n",
              "    <tr style=\"text-align: right;\">\n",
              "      <th></th>\n",
              "      <th>Unnamed: 0</th>\n",
              "      <th>Year</th>\n",
              "      <th>State</th>\n",
              "      <th>Table_Data</th>\n",
              "      <th>Footnote</th>\n",
              "      <th>High.Value</th>\n",
              "      <th>Low.Value</th>\n",
              "      <th>CPI.Average</th>\n",
              "      <th>High.2018</th>\n",
              "      <th>Low.2018</th>\n",
              "    </tr>\n",
              "  </thead>\n",
              "  <tbody>\n",
              "    <tr>\n",
              "      <th>0</th>\n",
              "      <td>0</td>\n",
              "      <td>1968</td>\n",
              "      <td>Alabama</td>\n",
              "      <td>...</td>\n",
              "      <td>NaN</td>\n",
              "      <td>0.00000</td>\n",
              "      <td>0.00000</td>\n",
              "      <td>34.783333</td>\n",
              "      <td>0.00</td>\n",
              "      <td>0.00</td>\n",
              "    </tr>\n",
              "    <tr>\n",
              "      <th>1</th>\n",
              "      <td>1</td>\n",
              "      <td>1968</td>\n",
              "      <td>Alaska</td>\n",
              "      <td>2.10</td>\n",
              "      <td>NaN</td>\n",
              "      <td>2.10000</td>\n",
              "      <td>2.10000</td>\n",
              "      <td>34.783333</td>\n",
              "      <td>15.12</td>\n",
              "      <td>15.12</td>\n",
              "    </tr>\n",
              "    <tr>\n",
              "      <th>2</th>\n",
              "      <td>2</td>\n",
              "      <td>1968</td>\n",
              "      <td>Arizona</td>\n",
              "      <td>18.72 - 26.40/wk(b)</td>\n",
              "      <td>(b)</td>\n",
              "      <td>0.66000</td>\n",
              "      <td>0.46800</td>\n",
              "      <td>34.783333</td>\n",
              "      <td>4.75</td>\n",
              "      <td>3.37</td>\n",
              "    </tr>\n",
              "    <tr>\n",
              "      <th>3</th>\n",
              "      <td>3</td>\n",
              "      <td>1968</td>\n",
              "      <td>Arkansas</td>\n",
              "      <td>1.25/day(b)</td>\n",
              "      <td>(b)</td>\n",
              "      <td>0.15625</td>\n",
              "      <td>0.15625</td>\n",
              "      <td>34.783333</td>\n",
              "      <td>1.12</td>\n",
              "      <td>1.12</td>\n",
              "    </tr>\n",
              "    <tr>\n",
              "      <th>4</th>\n",
              "      <td>4</td>\n",
              "      <td>1968</td>\n",
              "      <td>California</td>\n",
              "      <td>1.65(b)</td>\n",
              "      <td>(b)</td>\n",
              "      <td>1.65000</td>\n",
              "      <td>1.65000</td>\n",
              "      <td>34.783333</td>\n",
              "      <td>11.88</td>\n",
              "      <td>11.88</td>\n",
              "    </tr>\n",
              "  </tbody>\n",
              "</table>\n",
              "</div>"
            ],
            "text/plain": [
              "   Unnamed: 0  Year       State           Table_Data Footnote  High.Value  \\\n",
              "0           0  1968     Alabama                  ...      NaN     0.00000   \n",
              "1           1  1968      Alaska                 2.10      NaN     2.10000   \n",
              "2           2  1968     Arizona  18.72 - 26.40/wk(b)      (b)     0.66000   \n",
              "3           3  1968    Arkansas          1.25/day(b)      (b)     0.15625   \n",
              "4           4  1968  California              1.65(b)      (b)     1.65000   \n",
              "\n",
              "   Low.Value  CPI.Average  High.2018  Low.2018  \n",
              "0    0.00000    34.783333       0.00      0.00  \n",
              "1    2.10000    34.783333      15.12     15.12  \n",
              "2    0.46800    34.783333       4.75      3.37  \n",
              "3    0.15625    34.783333       1.12      1.12  \n",
              "4    1.65000    34.783333      11.88     11.88  "
            ]
          },
          "metadata": {
            "tags": []
          },
          "execution_count": 42
        }
      ]
    },
    {
      "metadata": {
        "id": "CSf2__7wdbtC",
        "colab_type": "code",
        "colab": {
          "base_uri": "https://localhost:8080/",
          "height": 235
        },
        "outputId": "47bd5480-4c6f-4a3e-8534-7fe9c335baad"
      },
      "cell_type": "code",
      "source": [
        "gb=wage_data.groupby(\"State\")\n",
        "gb.get_group(\"Alaska\").set_index(\"Year\").head()"
      ],
      "execution_count": 62,
      "outputs": [
        {
          "output_type": "execute_result",
          "data": {
            "text/html": [
              "<div>\n",
              "<style scoped>\n",
              "    .dataframe tbody tr th:only-of-type {\n",
              "        vertical-align: middle;\n",
              "    }\n",
              "\n",
              "    .dataframe tbody tr th {\n",
              "        vertical-align: top;\n",
              "    }\n",
              "\n",
              "    .dataframe thead th {\n",
              "        text-align: right;\n",
              "    }\n",
              "</style>\n",
              "<table border=\"1\" class=\"dataframe\">\n",
              "  <thead>\n",
              "    <tr style=\"text-align: right;\">\n",
              "      <th></th>\n",
              "      <th>Unnamed: 0</th>\n",
              "      <th>State</th>\n",
              "      <th>Table_Data</th>\n",
              "      <th>Footnote</th>\n",
              "      <th>High.Value</th>\n",
              "      <th>Low.Value</th>\n",
              "      <th>CPI.Average</th>\n",
              "      <th>High.2018</th>\n",
              "      <th>Low.2018</th>\n",
              "    </tr>\n",
              "    <tr>\n",
              "      <th>Year</th>\n",
              "      <th></th>\n",
              "      <th></th>\n",
              "      <th></th>\n",
              "      <th></th>\n",
              "      <th></th>\n",
              "      <th></th>\n",
              "      <th></th>\n",
              "      <th></th>\n",
              "      <th></th>\n",
              "    </tr>\n",
              "  </thead>\n",
              "  <tbody>\n",
              "    <tr>\n",
              "      <th>1968</th>\n",
              "      <td>1</td>\n",
              "      <td>Alaska</td>\n",
              "      <td>2.10</td>\n",
              "      <td>NaN</td>\n",
              "      <td>2.1</td>\n",
              "      <td>2.1</td>\n",
              "      <td>34.783333</td>\n",
              "      <td>15.12</td>\n",
              "      <td>15.12</td>\n",
              "    </tr>\n",
              "    <tr>\n",
              "      <th>1969</th>\n",
              "      <td>56</td>\n",
              "      <td>Alaska</td>\n",
              "      <td>2.10</td>\n",
              "      <td>NaN</td>\n",
              "      <td>2.1</td>\n",
              "      <td>2.1</td>\n",
              "      <td>36.683333</td>\n",
              "      <td>14.33</td>\n",
              "      <td>14.33</td>\n",
              "    </tr>\n",
              "    <tr>\n",
              "      <th>1970</th>\n",
              "      <td>111</td>\n",
              "      <td>Alaska</td>\n",
              "      <td>2.10</td>\n",
              "      <td>NaN</td>\n",
              "      <td>2.1</td>\n",
              "      <td>2.1</td>\n",
              "      <td>38.825000</td>\n",
              "      <td>13.54</td>\n",
              "      <td>13.54</td>\n",
              "    </tr>\n",
              "    <tr>\n",
              "      <th>1971</th>\n",
              "      <td>166</td>\n",
              "      <td>Alaska</td>\n",
              "      <td>2.10</td>\n",
              "      <td>NaN</td>\n",
              "      <td>2.1</td>\n",
              "      <td>2.1</td>\n",
              "      <td>40.491667</td>\n",
              "      <td>12.99</td>\n",
              "      <td>12.99</td>\n",
              "    </tr>\n",
              "    <tr>\n",
              "      <th>1972</th>\n",
              "      <td>221</td>\n",
              "      <td>Alaska</td>\n",
              "      <td>2.10</td>\n",
              "      <td>NaN</td>\n",
              "      <td>2.1</td>\n",
              "      <td>2.1</td>\n",
              "      <td>41.816667</td>\n",
              "      <td>12.57</td>\n",
              "      <td>12.57</td>\n",
              "    </tr>\n",
              "  </tbody>\n",
              "</table>\n",
              "</div>"
            ],
            "text/plain": [
              "      Unnamed: 0   State Table_Data Footnote  High.Value  Low.Value  \\\n",
              "Year                                                                  \n",
              "1968           1  Alaska       2.10      NaN         2.1        2.1   \n",
              "1969          56  Alaska       2.10      NaN         2.1        2.1   \n",
              "1970         111  Alaska       2.10      NaN         2.1        2.1   \n",
              "1971         166  Alaska       2.10      NaN         2.1        2.1   \n",
              "1972         221  Alaska       2.10      NaN         2.1        2.1   \n",
              "\n",
              "      CPI.Average  High.2018  Low.2018  \n",
              "Year                                    \n",
              "1968    34.783333      15.12     15.12  \n",
              "1969    36.683333      14.33     14.33  \n",
              "1970    38.825000      13.54     13.54  \n",
              "1971    40.491667      12.99     12.99  \n",
              "1972    41.816667      12.57     12.57  "
            ]
          },
          "metadata": {
            "tags": []
          },
          "execution_count": 62
        }
      ]
    },
    {
      "metadata": {
        "id": "RHZbCDfAfWFy",
        "colab_type": "code",
        "colab": {
          "base_uri": "https://localhost:8080/",
          "height": 318
        },
        "outputId": "2f3840e5-c923-45ac-aaf3-3b3ac5f92854"
      },
      "cell_type": "code",
      "source": [
        "#itterating over group\n",
        "act_min_wage=pd.DataFrame()\n",
        "for name, group in wage_data.groupby(\"State\"):\n",
        "  if act_min_wage.empty:\n",
        "     act_min_wage=pd.DataFrame(group.set_index(\"Year\")[[\"Low.2018\"]].rename(columns={\"Low.2018\":name}))\n",
        "  else:\n",
        "     act_min_wage=act_min_wage.join(group.set_index(\"Year\")[[\"Low.2018\"]].rename(columns={\"Low.2018\":name}))\n",
        "act_min_wage.head()\n",
        "  "
      ],
      "execution_count": 67,
      "outputs": [
        {
          "output_type": "execute_result",
          "data": {
            "text/html": [
              "<div>\n",
              "<style scoped>\n",
              "    .dataframe tbody tr th:only-of-type {\n",
              "        vertical-align: middle;\n",
              "    }\n",
              "\n",
              "    .dataframe tbody tr th {\n",
              "        vertical-align: top;\n",
              "    }\n",
              "\n",
              "    .dataframe thead th {\n",
              "        text-align: right;\n",
              "    }\n",
              "</style>\n",
              "<table border=\"1\" class=\"dataframe\">\n",
              "  <thead>\n",
              "    <tr style=\"text-align: right;\">\n",
              "      <th></th>\n",
              "      <th>Alabama</th>\n",
              "      <th>Alaska</th>\n",
              "      <th>Arizona</th>\n",
              "      <th>Arkansas</th>\n",
              "      <th>California</th>\n",
              "      <th>Colorado</th>\n",
              "      <th>Connecticut</th>\n",
              "      <th>Delaware</th>\n",
              "      <th>District of Columbia</th>\n",
              "      <th>Federal (FLSA)</th>\n",
              "      <th>...</th>\n",
              "      <th>Tennessee</th>\n",
              "      <th>Texas</th>\n",
              "      <th>U.S. Virgin Islands</th>\n",
              "      <th>Utah</th>\n",
              "      <th>Vermont</th>\n",
              "      <th>Virginia</th>\n",
              "      <th>Washington</th>\n",
              "      <th>West Virginia</th>\n",
              "      <th>Wisconsin</th>\n",
              "      <th>Wyoming</th>\n",
              "    </tr>\n",
              "    <tr>\n",
              "      <th>Year</th>\n",
              "      <th></th>\n",
              "      <th></th>\n",
              "      <th></th>\n",
              "      <th></th>\n",
              "      <th></th>\n",
              "      <th></th>\n",
              "      <th></th>\n",
              "      <th></th>\n",
              "      <th></th>\n",
              "      <th></th>\n",
              "      <th></th>\n",
              "      <th></th>\n",
              "      <th></th>\n",
              "      <th></th>\n",
              "      <th></th>\n",
              "      <th></th>\n",
              "      <th></th>\n",
              "      <th></th>\n",
              "      <th></th>\n",
              "      <th></th>\n",
              "      <th></th>\n",
              "    </tr>\n",
              "  </thead>\n",
              "  <tbody>\n",
              "    <tr>\n",
              "      <th>1968</th>\n",
              "      <td>0.0</td>\n",
              "      <td>15.12</td>\n",
              "      <td>3.37</td>\n",
              "      <td>1.12</td>\n",
              "      <td>11.88</td>\n",
              "      <td>7.20</td>\n",
              "      <td>10.08</td>\n",
              "      <td>9.00</td>\n",
              "      <td>9.00</td>\n",
              "      <td>8.28</td>\n",
              "      <td>...</td>\n",
              "      <td>0.0</td>\n",
              "      <td>0.00</td>\n",
              "      <td>NaN</td>\n",
              "      <td>7.20</td>\n",
              "      <td>10.08</td>\n",
              "      <td>0.0</td>\n",
              "      <td>11.52</td>\n",
              "      <td>7.20</td>\n",
              "      <td>9.00</td>\n",
              "      <td>8.64</td>\n",
              "    </tr>\n",
              "    <tr>\n",
              "      <th>1969</th>\n",
              "      <td>0.0</td>\n",
              "      <td>14.33</td>\n",
              "      <td>3.19</td>\n",
              "      <td>1.07</td>\n",
              "      <td>11.26</td>\n",
              "      <td>6.83</td>\n",
              "      <td>9.56</td>\n",
              "      <td>8.53</td>\n",
              "      <td>8.53</td>\n",
              "      <td>7.85</td>\n",
              "      <td>...</td>\n",
              "      <td>0.0</td>\n",
              "      <td>0.00</td>\n",
              "      <td>NaN</td>\n",
              "      <td>6.83</td>\n",
              "      <td>9.56</td>\n",
              "      <td>0.0</td>\n",
              "      <td>10.92</td>\n",
              "      <td>6.83</td>\n",
              "      <td>8.53</td>\n",
              "      <td>8.19</td>\n",
              "    </tr>\n",
              "    <tr>\n",
              "      <th>1970</th>\n",
              "      <td>0.0</td>\n",
              "      <td>13.54</td>\n",
              "      <td>3.02</td>\n",
              "      <td>7.09</td>\n",
              "      <td>10.64</td>\n",
              "      <td>6.45</td>\n",
              "      <td>10.32</td>\n",
              "      <td>8.06</td>\n",
              "      <td>10.32</td>\n",
              "      <td>8.38</td>\n",
              "      <td>...</td>\n",
              "      <td>0.0</td>\n",
              "      <td>0.00</td>\n",
              "      <td>NaN</td>\n",
              "      <td>6.45</td>\n",
              "      <td>10.32</td>\n",
              "      <td>0.0</td>\n",
              "      <td>10.32</td>\n",
              "      <td>6.45</td>\n",
              "      <td>8.38</td>\n",
              "      <td>8.38</td>\n",
              "    </tr>\n",
              "    <tr>\n",
              "      <th>1971</th>\n",
              "      <td>0.0</td>\n",
              "      <td>12.99</td>\n",
              "      <td>2.89</td>\n",
              "      <td>6.80</td>\n",
              "      <td>10.20</td>\n",
              "      <td>6.18</td>\n",
              "      <td>9.89</td>\n",
              "      <td>7.73</td>\n",
              "      <td>9.89</td>\n",
              "      <td>8.04</td>\n",
              "      <td>...</td>\n",
              "      <td>0.0</td>\n",
              "      <td>0.00</td>\n",
              "      <td>NaN</td>\n",
              "      <td>6.18</td>\n",
              "      <td>9.89</td>\n",
              "      <td>0.0</td>\n",
              "      <td>9.89</td>\n",
              "      <td>6.18</td>\n",
              "      <td>8.04</td>\n",
              "      <td>8.04</td>\n",
              "    </tr>\n",
              "    <tr>\n",
              "      <th>1972</th>\n",
              "      <td>0.0</td>\n",
              "      <td>12.57</td>\n",
              "      <td>2.80</td>\n",
              "      <td>7.19</td>\n",
              "      <td>9.88</td>\n",
              "      <td>5.99</td>\n",
              "      <td>11.08</td>\n",
              "      <td>9.58</td>\n",
              "      <td>9.58</td>\n",
              "      <td>9.58</td>\n",
              "      <td>...</td>\n",
              "      <td>0.0</td>\n",
              "      <td>8.38</td>\n",
              "      <td>NaN</td>\n",
              "      <td>7.19</td>\n",
              "      <td>9.58</td>\n",
              "      <td>0.0</td>\n",
              "      <td>9.58</td>\n",
              "      <td>7.19</td>\n",
              "      <td>8.68</td>\n",
              "      <td>8.98</td>\n",
              "    </tr>\n",
              "  </tbody>\n",
              "</table>\n",
              "<p>5 rows × 55 columns</p>\n",
              "</div>"
            ],
            "text/plain": [
              "      Alabama  Alaska  Arizona  Arkansas  California  Colorado  Connecticut  \\\n",
              "Year                                                                          \n",
              "1968      0.0   15.12     3.37      1.12       11.88      7.20        10.08   \n",
              "1969      0.0   14.33     3.19      1.07       11.26      6.83         9.56   \n",
              "1970      0.0   13.54     3.02      7.09       10.64      6.45        10.32   \n",
              "1971      0.0   12.99     2.89      6.80       10.20      6.18         9.89   \n",
              "1972      0.0   12.57     2.80      7.19        9.88      5.99        11.08   \n",
              "\n",
              "      Delaware  District of Columbia  Federal (FLSA)   ...     Tennessee  \\\n",
              "Year                                                   ...                 \n",
              "1968      9.00                  9.00            8.28   ...           0.0   \n",
              "1969      8.53                  8.53            7.85   ...           0.0   \n",
              "1970      8.06                 10.32            8.38   ...           0.0   \n",
              "1971      7.73                  9.89            8.04   ...           0.0   \n",
              "1972      9.58                  9.58            9.58   ...           0.0   \n",
              "\n",
              "      Texas  U.S. Virgin Islands  Utah  Vermont  Virginia  Washington  \\\n",
              "Year                                                                    \n",
              "1968   0.00                  NaN  7.20    10.08       0.0       11.52   \n",
              "1969   0.00                  NaN  6.83     9.56       0.0       10.92   \n",
              "1970   0.00                  NaN  6.45    10.32       0.0       10.32   \n",
              "1971   0.00                  NaN  6.18     9.89       0.0        9.89   \n",
              "1972   8.38                  NaN  7.19     9.58       0.0        9.58   \n",
              "\n",
              "      West Virginia  Wisconsin  Wyoming  \n",
              "Year                                     \n",
              "1968           7.20       9.00     8.64  \n",
              "1969           6.83       8.53     8.19  \n",
              "1970           6.45       8.38     8.38  \n",
              "1971           6.18       8.04     8.04  \n",
              "1972           7.19       8.68     8.98  \n",
              "\n",
              "[5 rows x 55 columns]"
            ]
          },
          "metadata": {
            "tags": []
          },
          "execution_count": 67
        }
      ]
    },
    {
      "metadata": {
        "id": "MC6HtYKEh_ST",
        "colab_type": "code",
        "colab": {
          "base_uri": "https://localhost:8080/",
          "height": 380
        },
        "outputId": "32224dde-1166-4152-ab5c-756e93862179"
      },
      "cell_type": "code",
      "source": [
        "act_min_wage.describe()"
      ],
      "execution_count": 68,
      "outputs": [
        {
          "output_type": "execute_result",
          "data": {
            "text/html": [
              "<div>\n",
              "<style scoped>\n",
              "    .dataframe tbody tr th:only-of-type {\n",
              "        vertical-align: middle;\n",
              "    }\n",
              "\n",
              "    .dataframe tbody tr th {\n",
              "        vertical-align: top;\n",
              "    }\n",
              "\n",
              "    .dataframe thead th {\n",
              "        text-align: right;\n",
              "    }\n",
              "</style>\n",
              "<table border=\"1\" class=\"dataframe\">\n",
              "  <thead>\n",
              "    <tr style=\"text-align: right;\">\n",
              "      <th></th>\n",
              "      <th>Alabama</th>\n",
              "      <th>Alaska</th>\n",
              "      <th>Arizona</th>\n",
              "      <th>Arkansas</th>\n",
              "      <th>California</th>\n",
              "      <th>Colorado</th>\n",
              "      <th>Connecticut</th>\n",
              "      <th>Delaware</th>\n",
              "      <th>District of Columbia</th>\n",
              "      <th>Federal (FLSA)</th>\n",
              "      <th>...</th>\n",
              "      <th>Tennessee</th>\n",
              "      <th>Texas</th>\n",
              "      <th>U.S. Virgin Islands</th>\n",
              "      <th>Utah</th>\n",
              "      <th>Vermont</th>\n",
              "      <th>Virginia</th>\n",
              "      <th>Washington</th>\n",
              "      <th>West Virginia</th>\n",
              "      <th>Wisconsin</th>\n",
              "      <th>Wyoming</th>\n",
              "    </tr>\n",
              "  </thead>\n",
              "  <tbody>\n",
              "    <tr>\n",
              "      <th>count</th>\n",
              "      <td>50.0</td>\n",
              "      <td>50.000000</td>\n",
              "      <td>50.000000</td>\n",
              "      <td>50.000000</td>\n",
              "      <td>50.000000</td>\n",
              "      <td>50.000000</td>\n",
              "      <td>50.000000</td>\n",
              "      <td>50.000000</td>\n",
              "      <td>50.000000</td>\n",
              "      <td>50.000000</td>\n",
              "      <td>...</td>\n",
              "      <td>50.0</td>\n",
              "      <td>50.000000</td>\n",
              "      <td>39.000000</td>\n",
              "      <td>50.000000</td>\n",
              "      <td>50.000000</td>\n",
              "      <td>50.000000</td>\n",
              "      <td>50.000000</td>\n",
              "      <td>50.000000</td>\n",
              "      <td>50.000000</td>\n",
              "      <td>50.000000</td>\n",
              "    </tr>\n",
              "    <tr>\n",
              "      <th>mean</th>\n",
              "      <td>0.0</td>\n",
              "      <td>9.583800</td>\n",
              "      <td>2.316200</td>\n",
              "      <td>6.781600</td>\n",
              "      <td>8.632800</td>\n",
              "      <td>6.389800</td>\n",
              "      <td>8.823600</td>\n",
              "      <td>7.498800</td>\n",
              "      <td>8.343200</td>\n",
              "      <td>7.773200</td>\n",
              "      <td>...</td>\n",
              "      <td>0.0</td>\n",
              "      <td>5.541200</td>\n",
              "      <td>6.643590</td>\n",
              "      <td>6.836600</td>\n",
              "      <td>8.657400</td>\n",
              "      <td>5.897400</td>\n",
              "      <td>8.301800</td>\n",
              "      <td>7.166400</td>\n",
              "      <td>7.694200</td>\n",
              "      <td>5.149200</td>\n",
              "    </tr>\n",
              "    <tr>\n",
              "      <th>std</th>\n",
              "      <td>0.0</td>\n",
              "      <td>1.845176</td>\n",
              "      <td>3.474504</td>\n",
              "      <td>1.341223</td>\n",
              "      <td>1.187508</td>\n",
              "      <td>1.521052</td>\n",
              "      <td>1.023613</td>\n",
              "      <td>1.265436</td>\n",
              "      <td>1.476133</td>\n",
              "      <td>0.887354</td>\n",
              "      <td>...</td>\n",
              "      <td>0.0</td>\n",
              "      <td>2.202229</td>\n",
              "      <td>1.590176</td>\n",
              "      <td>0.819367</td>\n",
              "      <td>0.984647</td>\n",
              "      <td>2.726151</td>\n",
              "      <td>1.868613</td>\n",
              "      <td>0.793673</td>\n",
              "      <td>0.762675</td>\n",
              "      <td>1.998928</td>\n",
              "    </tr>\n",
              "    <tr>\n",
              "      <th>min</th>\n",
              "      <td>0.0</td>\n",
              "      <td>7.380000</td>\n",
              "      <td>0.000000</td>\n",
              "      <td>1.070000</td>\n",
              "      <td>6.420000</td>\n",
              "      <td>3.840000</td>\n",
              "      <td>6.820000</td>\n",
              "      <td>4.410000</td>\n",
              "      <td>5.510000</td>\n",
              "      <td>6.220000</td>\n",
              "      <td>...</td>\n",
              "      <td>0.0</td>\n",
              "      <td>0.000000</td>\n",
              "      <td>4.390000</td>\n",
              "      <td>4.790000</td>\n",
              "      <td>6.800000</td>\n",
              "      <td>0.000000</td>\n",
              "      <td>4.410000</td>\n",
              "      <td>5.580000</td>\n",
              "      <td>6.420000</td>\n",
              "      <td>2.260000</td>\n",
              "    </tr>\n",
              "    <tr>\n",
              "      <th>25%</th>\n",
              "      <td>0.0</td>\n",
              "      <td>8.252500</td>\n",
              "      <td>0.000000</td>\n",
              "      <td>6.522500</td>\n",
              "      <td>7.695000</td>\n",
              "      <td>5.072500</td>\n",
              "      <td>7.865000</td>\n",
              "      <td>7.015000</td>\n",
              "      <td>7.097500</td>\n",
              "      <td>7.172500</td>\n",
              "      <td>...</td>\n",
              "      <td>0.0</td>\n",
              "      <td>4.762500</td>\n",
              "      <td>5.105000</td>\n",
              "      <td>6.317500</td>\n",
              "      <td>7.800000</td>\n",
              "      <td>5.892500</td>\n",
              "      <td>7.227500</td>\n",
              "      <td>6.630000</td>\n",
              "      <td>7.107500</td>\n",
              "      <td>3.270000</td>\n",
              "    </tr>\n",
              "    <tr>\n",
              "      <th>50%</th>\n",
              "      <td>0.0</td>\n",
              "      <td>8.890000</td>\n",
              "      <td>0.000000</td>\n",
              "      <td>6.920000</td>\n",
              "      <td>8.670000</td>\n",
              "      <td>6.375000</td>\n",
              "      <td>9.075000</td>\n",
              "      <td>7.845000</td>\n",
              "      <td>8.510000</td>\n",
              "      <td>7.655000</td>\n",
              "      <td>...</td>\n",
              "      <td>0.0</td>\n",
              "      <td>6.070000</td>\n",
              "      <td>6.770000</td>\n",
              "      <td>6.930000</td>\n",
              "      <td>8.885000</td>\n",
              "      <td>6.855000</td>\n",
              "      <td>9.055000</td>\n",
              "      <td>7.075000</td>\n",
              "      <td>7.580000</td>\n",
              "      <td>5.445000</td>\n",
              "    </tr>\n",
              "    <tr>\n",
              "      <th>75%</th>\n",
              "      <td>0.0</td>\n",
              "      <td>10.492500</td>\n",
              "      <td>3.147500</td>\n",
              "      <td>7.290000</td>\n",
              "      <td>9.307500</td>\n",
              "      <td>7.677500</td>\n",
              "      <td>9.455000</td>\n",
              "      <td>8.327500</td>\n",
              "      <td>9.140000</td>\n",
              "      <td>8.242500</td>\n",
              "      <td>...</td>\n",
              "      <td>0.0</td>\n",
              "      <td>7.105000</td>\n",
              "      <td>7.830000</td>\n",
              "      <td>7.470000</td>\n",
              "      <td>9.372500</td>\n",
              "      <td>7.620000</td>\n",
              "      <td>9.672500</td>\n",
              "      <td>7.612500</td>\n",
              "      <td>8.145000</td>\n",
              "      <td>6.607500</td>\n",
              "    </tr>\n",
              "    <tr>\n",
              "      <th>max</th>\n",
              "      <td>0.0</td>\n",
              "      <td>15.120000</td>\n",
              "      <td>10.220000</td>\n",
              "      <td>8.680000</td>\n",
              "      <td>11.880000</td>\n",
              "      <td>9.500000</td>\n",
              "      <td>11.080000</td>\n",
              "      <td>9.580000</td>\n",
              "      <td>12.000000</td>\n",
              "      <td>10.010000</td>\n",
              "      <td>...</td>\n",
              "      <td>0.0</td>\n",
              "      <td>8.380000</td>\n",
              "      <td>10.010000</td>\n",
              "      <td>8.330000</td>\n",
              "      <td>10.320000</td>\n",
              "      <td>8.800000</td>\n",
              "      <td>11.520000</td>\n",
              "      <td>9.130000</td>\n",
              "      <td>9.660000</td>\n",
              "      <td>8.980000</td>\n",
              "    </tr>\n",
              "  </tbody>\n",
              "</table>\n",
              "<p>8 rows × 55 columns</p>\n",
              "</div>"
            ],
            "text/plain": [
              "       Alabama     Alaska    Arizona   Arkansas  California   Colorado  \\\n",
              "count     50.0  50.000000  50.000000  50.000000   50.000000  50.000000   \n",
              "mean       0.0   9.583800   2.316200   6.781600    8.632800   6.389800   \n",
              "std        0.0   1.845176   3.474504   1.341223    1.187508   1.521052   \n",
              "min        0.0   7.380000   0.000000   1.070000    6.420000   3.840000   \n",
              "25%        0.0   8.252500   0.000000   6.522500    7.695000   5.072500   \n",
              "50%        0.0   8.890000   0.000000   6.920000    8.670000   6.375000   \n",
              "75%        0.0  10.492500   3.147500   7.290000    9.307500   7.677500   \n",
              "max        0.0  15.120000  10.220000   8.680000   11.880000   9.500000   \n",
              "\n",
              "       Connecticut   Delaware  District of Columbia  Federal (FLSA)  \\\n",
              "count    50.000000  50.000000             50.000000       50.000000   \n",
              "mean      8.823600   7.498800              8.343200        7.773200   \n",
              "std       1.023613   1.265436              1.476133        0.887354   \n",
              "min       6.820000   4.410000              5.510000        6.220000   \n",
              "25%       7.865000   7.015000              7.097500        7.172500   \n",
              "50%       9.075000   7.845000              8.510000        7.655000   \n",
              "75%       9.455000   8.327500              9.140000        8.242500   \n",
              "max      11.080000   9.580000             12.000000       10.010000   \n",
              "\n",
              "         ...      Tennessee      Texas  U.S. Virgin Islands       Utah  \\\n",
              "count    ...           50.0  50.000000            39.000000  50.000000   \n",
              "mean     ...            0.0   5.541200             6.643590   6.836600   \n",
              "std      ...            0.0   2.202229             1.590176   0.819367   \n",
              "min      ...            0.0   0.000000             4.390000   4.790000   \n",
              "25%      ...            0.0   4.762500             5.105000   6.317500   \n",
              "50%      ...            0.0   6.070000             6.770000   6.930000   \n",
              "75%      ...            0.0   7.105000             7.830000   7.470000   \n",
              "max      ...            0.0   8.380000            10.010000   8.330000   \n",
              "\n",
              "         Vermont   Virginia  Washington  West Virginia  Wisconsin    Wyoming  \n",
              "count  50.000000  50.000000   50.000000      50.000000  50.000000  50.000000  \n",
              "mean    8.657400   5.897400    8.301800       7.166400   7.694200   5.149200  \n",
              "std     0.984647   2.726151    1.868613       0.793673   0.762675   1.998928  \n",
              "min     6.800000   0.000000    4.410000       5.580000   6.420000   2.260000  \n",
              "25%     7.800000   5.892500    7.227500       6.630000   7.107500   3.270000  \n",
              "50%     8.885000   6.855000    9.055000       7.075000   7.580000   5.445000  \n",
              "75%     9.372500   7.620000    9.672500       7.612500   8.145000   6.607500  \n",
              "max    10.320000   8.800000   11.520000       9.130000   9.660000   8.980000  \n",
              "\n",
              "[8 rows x 55 columns]"
            ]
          },
          "metadata": {
            "tags": []
          },
          "execution_count": 68
        }
      ]
    },
    {
      "metadata": {
        "id": "c7sU7DT7p__a",
        "colab_type": "code",
        "colab": {
          "base_uri": "https://localhost:8080/",
          "height": 287
        },
        "outputId": "018950cd-7845-456a-9a10-4d35750ceaef"
      },
      "cell_type": "code",
      "source": [
        "act_min_wage.corr().head()"
      ],
      "execution_count": 69,
      "outputs": [
        {
          "output_type": "execute_result",
          "data": {
            "text/html": [
              "<div>\n",
              "<style scoped>\n",
              "    .dataframe tbody tr th:only-of-type {\n",
              "        vertical-align: middle;\n",
              "    }\n",
              "\n",
              "    .dataframe tbody tr th {\n",
              "        vertical-align: top;\n",
              "    }\n",
              "\n",
              "    .dataframe thead th {\n",
              "        text-align: right;\n",
              "    }\n",
              "</style>\n",
              "<table border=\"1\" class=\"dataframe\">\n",
              "  <thead>\n",
              "    <tr style=\"text-align: right;\">\n",
              "      <th></th>\n",
              "      <th>Alabama</th>\n",
              "      <th>Alaska</th>\n",
              "      <th>Arizona</th>\n",
              "      <th>Arkansas</th>\n",
              "      <th>California</th>\n",
              "      <th>Colorado</th>\n",
              "      <th>Connecticut</th>\n",
              "      <th>Delaware</th>\n",
              "      <th>District of Columbia</th>\n",
              "      <th>Federal (FLSA)</th>\n",
              "      <th>...</th>\n",
              "      <th>Tennessee</th>\n",
              "      <th>Texas</th>\n",
              "      <th>U.S. Virgin Islands</th>\n",
              "      <th>Utah</th>\n",
              "      <th>Vermont</th>\n",
              "      <th>Virginia</th>\n",
              "      <th>Washington</th>\n",
              "      <th>West Virginia</th>\n",
              "      <th>Wisconsin</th>\n",
              "      <th>Wyoming</th>\n",
              "    </tr>\n",
              "  </thead>\n",
              "  <tbody>\n",
              "    <tr>\n",
              "      <th>Alabama</th>\n",
              "      <td>NaN</td>\n",
              "      <td>NaN</td>\n",
              "      <td>NaN</td>\n",
              "      <td>NaN</td>\n",
              "      <td>NaN</td>\n",
              "      <td>NaN</td>\n",
              "      <td>NaN</td>\n",
              "      <td>NaN</td>\n",
              "      <td>NaN</td>\n",
              "      <td>NaN</td>\n",
              "      <td>...</td>\n",
              "      <td>NaN</td>\n",
              "      <td>NaN</td>\n",
              "      <td>NaN</td>\n",
              "      <td>NaN</td>\n",
              "      <td>NaN</td>\n",
              "      <td>NaN</td>\n",
              "      <td>NaN</td>\n",
              "      <td>NaN</td>\n",
              "      <td>NaN</td>\n",
              "      <td>NaN</td>\n",
              "    </tr>\n",
              "    <tr>\n",
              "      <th>Alaska</th>\n",
              "      <td>NaN</td>\n",
              "      <td>1.000000</td>\n",
              "      <td>0.018638</td>\n",
              "      <td>-0.377934</td>\n",
              "      <td>0.717653</td>\n",
              "      <td>-0.129332</td>\n",
              "      <td>0.680886</td>\n",
              "      <td>0.258997</td>\n",
              "      <td>0.321785</td>\n",
              "      <td>0.637679</td>\n",
              "      <td>...</td>\n",
              "      <td>NaN</td>\n",
              "      <td>-0.522472</td>\n",
              "      <td>0.277016</td>\n",
              "      <td>-0.020462</td>\n",
              "      <td>0.663558</td>\n",
              "      <td>-0.601640</td>\n",
              "      <td>0.411593</td>\n",
              "      <td>0.044814</td>\n",
              "      <td>0.702570</td>\n",
              "      <td>0.727932</td>\n",
              "    </tr>\n",
              "    <tr>\n",
              "      <th>Arizona</th>\n",
              "      <td>NaN</td>\n",
              "      <td>0.018638</td>\n",
              "      <td>1.000000</td>\n",
              "      <td>0.089395</td>\n",
              "      <td>0.498994</td>\n",
              "      <td>0.742527</td>\n",
              "      <td>0.458163</td>\n",
              "      <td>0.429836</td>\n",
              "      <td>0.590848</td>\n",
              "      <td>-0.049914</td>\n",
              "      <td>...</td>\n",
              "      <td>NaN</td>\n",
              "      <td>0.369900</td>\n",
              "      <td>-0.758607</td>\n",
              "      <td>0.439344</td>\n",
              "      <td>0.517960</td>\n",
              "      <td>0.047405</td>\n",
              "      <td>0.587975</td>\n",
              "      <td>0.584596</td>\n",
              "      <td>0.131588</td>\n",
              "      <td>0.346528</td>\n",
              "    </tr>\n",
              "    <tr>\n",
              "      <th>Arkansas</th>\n",
              "      <td>NaN</td>\n",
              "      <td>-0.377934</td>\n",
              "      <td>0.089395</td>\n",
              "      <td>1.000000</td>\n",
              "      <td>-0.234367</td>\n",
              "      <td>0.135749</td>\n",
              "      <td>0.047580</td>\n",
              "      <td>0.016125</td>\n",
              "      <td>0.266889</td>\n",
              "      <td>0.117245</td>\n",
              "      <td>...</td>\n",
              "      <td>NaN</td>\n",
              "      <td>0.503242</td>\n",
              "      <td>-0.204485</td>\n",
              "      <td>0.194680</td>\n",
              "      <td>0.087429</td>\n",
              "      <td>0.582192</td>\n",
              "      <td>-0.072343</td>\n",
              "      <td>0.420819</td>\n",
              "      <td>0.000470</td>\n",
              "      <td>-0.250592</td>\n",
              "    </tr>\n",
              "    <tr>\n",
              "      <th>California</th>\n",
              "      <td>NaN</td>\n",
              "      <td>0.717653</td>\n",
              "      <td>0.498994</td>\n",
              "      <td>-0.234367</td>\n",
              "      <td>1.000000</td>\n",
              "      <td>0.483313</td>\n",
              "      <td>0.876215</td>\n",
              "      <td>0.479197</td>\n",
              "      <td>0.596865</td>\n",
              "      <td>0.371966</td>\n",
              "      <td>...</td>\n",
              "      <td>NaN</td>\n",
              "      <td>-0.239533</td>\n",
              "      <td>-0.417782</td>\n",
              "      <td>0.392898</td>\n",
              "      <td>0.877922</td>\n",
              "      <td>-0.326364</td>\n",
              "      <td>0.754085</td>\n",
              "      <td>0.371765</td>\n",
              "      <td>0.584067</td>\n",
              "      <td>0.722617</td>\n",
              "    </tr>\n",
              "  </tbody>\n",
              "</table>\n",
              "<p>5 rows × 55 columns</p>\n",
              "</div>"
            ],
            "text/plain": [
              "            Alabama    Alaska   Arizona  Arkansas  California  Colorado  \\\n",
              "Alabama         NaN       NaN       NaN       NaN         NaN       NaN   \n",
              "Alaska          NaN  1.000000  0.018638 -0.377934    0.717653 -0.129332   \n",
              "Arizona         NaN  0.018638  1.000000  0.089395    0.498994  0.742527   \n",
              "Arkansas        NaN -0.377934  0.089395  1.000000   -0.234367  0.135749   \n",
              "California      NaN  0.717653  0.498994 -0.234367    1.000000  0.483313   \n",
              "\n",
              "            Connecticut  Delaware  District of Columbia  Federal (FLSA)  \\\n",
              "Alabama             NaN       NaN                   NaN             NaN   \n",
              "Alaska         0.680886  0.258997              0.321785        0.637679   \n",
              "Arizona        0.458163  0.429836              0.590848       -0.049914   \n",
              "Arkansas       0.047580  0.016125              0.266889        0.117245   \n",
              "California     0.876215  0.479197              0.596865        0.371966   \n",
              "\n",
              "              ...     Tennessee     Texas  U.S. Virgin Islands      Utah  \\\n",
              "Alabama       ...           NaN       NaN                  NaN       NaN   \n",
              "Alaska        ...           NaN -0.522472             0.277016 -0.020462   \n",
              "Arizona       ...           NaN  0.369900            -0.758607  0.439344   \n",
              "Arkansas      ...           NaN  0.503242            -0.204485  0.194680   \n",
              "California    ...           NaN -0.239533            -0.417782  0.392898   \n",
              "\n",
              "             Vermont  Virginia  Washington  West Virginia  Wisconsin   Wyoming  \n",
              "Alabama          NaN       NaN         NaN            NaN        NaN       NaN  \n",
              "Alaska      0.663558 -0.601640    0.411593       0.044814   0.702570  0.727932  \n",
              "Arizona     0.517960  0.047405    0.587975       0.584596   0.131588  0.346528  \n",
              "Arkansas    0.087429  0.582192   -0.072343       0.420819   0.000470 -0.250592  \n",
              "California  0.877922 -0.326364    0.754085       0.371765   0.584067  0.722617  \n",
              "\n",
              "[5 rows x 55 columns]"
            ]
          },
          "metadata": {
            "tags": []
          },
          "execution_count": 69
        }
      ]
    },
    {
      "metadata": {
        "id": "tUlmGZk6qXwA",
        "colab_type": "code",
        "colab": {
          "base_uri": "https://localhost:8080/",
          "height": 85
        },
        "outputId": "95976ada-3064-4d16-bb55-f8b789eda66b"
      },
      "cell_type": "code",
      "source": [
        "issue_df=wage_data[wage_data['Low.2018']==0]\n",
        "issue_df[\"State\"].unique()"
      ],
      "execution_count": 70,
      "outputs": [
        {
          "output_type": "execute_result",
          "data": {
            "text/plain": [
              "array(['Alabama', 'Florida', 'Georgia', 'Illinois', 'Iowa', 'Kansas',\n",
              "       'Louisiana', 'Mississippi', 'Missouri', 'Montana',\n",
              "       'South Carolina', 'Tennessee', 'Texas', 'Virginia', 'Arizona'],\n",
              "      dtype=object)"
            ]
          },
          "metadata": {
            "tags": []
          },
          "execution_count": 70
        }
      ]
    },
    {
      "metadata": {
        "id": "Ic1nXLQOrHtA",
        "colab_type": "code",
        "colab": {
          "base_uri": "https://localhost:8080/",
          "height": 287
        },
        "outputId": "21a78a2f-1e87-4ce4-cdad-2bb9e6549f48"
      },
      "cell_type": "code",
      "source": [
        "act_min_wage.replace(0,np.NaN).dropna(axis=1).corr().head()"
      ],
      "execution_count": 72,
      "outputs": [
        {
          "output_type": "execute_result",
          "data": {
            "text/html": [
              "<div>\n",
              "<style scoped>\n",
              "    .dataframe tbody tr th:only-of-type {\n",
              "        vertical-align: middle;\n",
              "    }\n",
              "\n",
              "    .dataframe tbody tr th {\n",
              "        vertical-align: top;\n",
              "    }\n",
              "\n",
              "    .dataframe thead th {\n",
              "        text-align: right;\n",
              "    }\n",
              "</style>\n",
              "<table border=\"1\" class=\"dataframe\">\n",
              "  <thead>\n",
              "    <tr style=\"text-align: right;\">\n",
              "      <th></th>\n",
              "      <th>Alaska</th>\n",
              "      <th>Arkansas</th>\n",
              "      <th>California</th>\n",
              "      <th>Colorado</th>\n",
              "      <th>Connecticut</th>\n",
              "      <th>Delaware</th>\n",
              "      <th>District of Columbia</th>\n",
              "      <th>Federal (FLSA)</th>\n",
              "      <th>Guam</th>\n",
              "      <th>Hawaii</th>\n",
              "      <th>...</th>\n",
              "      <th>Pennsylvania</th>\n",
              "      <th>Puerto Rico</th>\n",
              "      <th>Rhode Island</th>\n",
              "      <th>South Dakota</th>\n",
              "      <th>Utah</th>\n",
              "      <th>Vermont</th>\n",
              "      <th>Washington</th>\n",
              "      <th>West Virginia</th>\n",
              "      <th>Wisconsin</th>\n",
              "      <th>Wyoming</th>\n",
              "    </tr>\n",
              "  </thead>\n",
              "  <tbody>\n",
              "    <tr>\n",
              "      <th>Alaska</th>\n",
              "      <td>1.000000</td>\n",
              "      <td>-0.377934</td>\n",
              "      <td>0.717653</td>\n",
              "      <td>-0.129332</td>\n",
              "      <td>0.680886</td>\n",
              "      <td>0.258997</td>\n",
              "      <td>0.321785</td>\n",
              "      <td>0.637679</td>\n",
              "      <td>0.787915</td>\n",
              "      <td>0.672620</td>\n",
              "      <td>...</td>\n",
              "      <td>0.610814</td>\n",
              "      <td>-0.038118</td>\n",
              "      <td>0.652353</td>\n",
              "      <td>-0.326316</td>\n",
              "      <td>-0.020462</td>\n",
              "      <td>0.663558</td>\n",
              "      <td>0.411593</td>\n",
              "      <td>0.044814</td>\n",
              "      <td>0.702570</td>\n",
              "      <td>0.727932</td>\n",
              "    </tr>\n",
              "    <tr>\n",
              "      <th>Arkansas</th>\n",
              "      <td>-0.377934</td>\n",
              "      <td>1.000000</td>\n",
              "      <td>-0.234367</td>\n",
              "      <td>0.135749</td>\n",
              "      <td>0.047580</td>\n",
              "      <td>0.016125</td>\n",
              "      <td>0.266889</td>\n",
              "      <td>0.117245</td>\n",
              "      <td>0.039593</td>\n",
              "      <td>0.204801</td>\n",
              "      <td>...</td>\n",
              "      <td>0.159923</td>\n",
              "      <td>0.232186</td>\n",
              "      <td>0.003498</td>\n",
              "      <td>0.800116</td>\n",
              "      <td>0.194680</td>\n",
              "      <td>0.087429</td>\n",
              "      <td>-0.072343</td>\n",
              "      <td>0.420819</td>\n",
              "      <td>0.000470</td>\n",
              "      <td>-0.250592</td>\n",
              "    </tr>\n",
              "    <tr>\n",
              "      <th>California</th>\n",
              "      <td>0.717653</td>\n",
              "      <td>-0.234367</td>\n",
              "      <td>1.000000</td>\n",
              "      <td>0.483313</td>\n",
              "      <td>0.876215</td>\n",
              "      <td>0.479197</td>\n",
              "      <td>0.596865</td>\n",
              "      <td>0.371966</td>\n",
              "      <td>0.492052</td>\n",
              "      <td>0.519241</td>\n",
              "      <td>...</td>\n",
              "      <td>0.429061</td>\n",
              "      <td>0.512712</td>\n",
              "      <td>0.780916</td>\n",
              "      <td>-0.036787</td>\n",
              "      <td>0.392898</td>\n",
              "      <td>0.877922</td>\n",
              "      <td>0.754085</td>\n",
              "      <td>0.371765</td>\n",
              "      <td>0.584067</td>\n",
              "      <td>0.722617</td>\n",
              "    </tr>\n",
              "    <tr>\n",
              "      <th>Colorado</th>\n",
              "      <td>-0.129332</td>\n",
              "      <td>0.135749</td>\n",
              "      <td>0.483313</td>\n",
              "      <td>1.000000</td>\n",
              "      <td>0.402020</td>\n",
              "      <td>0.566304</td>\n",
              "      <td>0.673371</td>\n",
              "      <td>-0.232035</td>\n",
              "      <td>-0.192616</td>\n",
              "      <td>0.069800</td>\n",
              "      <td>...</td>\n",
              "      <td>-0.136195</td>\n",
              "      <td>0.657364</td>\n",
              "      <td>0.429852</td>\n",
              "      <td>0.399137</td>\n",
              "      <td>0.622330</td>\n",
              "      <td>0.448485</td>\n",
              "      <td>0.612637</td>\n",
              "      <td>0.533623</td>\n",
              "      <td>0.011501</td>\n",
              "      <td>0.130053</td>\n",
              "    </tr>\n",
              "    <tr>\n",
              "      <th>Connecticut</th>\n",
              "      <td>0.680886</td>\n",
              "      <td>0.047580</td>\n",
              "      <td>0.876215</td>\n",
              "      <td>0.402020</td>\n",
              "      <td>1.000000</td>\n",
              "      <td>0.552613</td>\n",
              "      <td>0.652488</td>\n",
              "      <td>0.487750</td>\n",
              "      <td>0.632073</td>\n",
              "      <td>0.621503</td>\n",
              "      <td>...</td>\n",
              "      <td>0.531769</td>\n",
              "      <td>0.626712</td>\n",
              "      <td>0.802485</td>\n",
              "      <td>0.105707</td>\n",
              "      <td>0.302538</td>\n",
              "      <td>0.898469</td>\n",
              "      <td>0.715691</td>\n",
              "      <td>0.400099</td>\n",
              "      <td>0.585790</td>\n",
              "      <td>0.814971</td>\n",
              "    </tr>\n",
              "  </tbody>\n",
              "</table>\n",
              "<p>5 rows × 39 columns</p>\n",
              "</div>"
            ],
            "text/plain": [
              "               Alaska  Arkansas  California  Colorado  Connecticut  Delaware  \\\n",
              "Alaska       1.000000 -0.377934    0.717653 -0.129332     0.680886  0.258997   \n",
              "Arkansas    -0.377934  1.000000   -0.234367  0.135749     0.047580  0.016125   \n",
              "California   0.717653 -0.234367    1.000000  0.483313     0.876215  0.479197   \n",
              "Colorado    -0.129332  0.135749    0.483313  1.000000     0.402020  0.566304   \n",
              "Connecticut  0.680886  0.047580    0.876215  0.402020     1.000000  0.552613   \n",
              "\n",
              "             District of Columbia  Federal (FLSA)      Guam    Hawaii  \\\n",
              "Alaska                   0.321785        0.637679  0.787915  0.672620   \n",
              "Arkansas                 0.266889        0.117245  0.039593  0.204801   \n",
              "California               0.596865        0.371966  0.492052  0.519241   \n",
              "Colorado                 0.673371       -0.232035 -0.192616  0.069800   \n",
              "Connecticut              0.652488        0.487750  0.632073  0.621503   \n",
              "\n",
              "               ...     Pennsylvania  Puerto Rico  Rhode Island  South Dakota  \\\n",
              "Alaska         ...         0.610814    -0.038118      0.652353     -0.326316   \n",
              "Arkansas       ...         0.159923     0.232186      0.003498      0.800116   \n",
              "California     ...         0.429061     0.512712      0.780916     -0.036787   \n",
              "Colorado       ...        -0.136195     0.657364      0.429852      0.399137   \n",
              "Connecticut    ...         0.531769     0.626712      0.802485      0.105707   \n",
              "\n",
              "                 Utah   Vermont  Washington  West Virginia  Wisconsin  \\\n",
              "Alaska      -0.020462  0.663558    0.411593       0.044814   0.702570   \n",
              "Arkansas     0.194680  0.087429   -0.072343       0.420819   0.000470   \n",
              "California   0.392898  0.877922    0.754085       0.371765   0.584067   \n",
              "Colorado     0.622330  0.448485    0.612637       0.533623   0.011501   \n",
              "Connecticut  0.302538  0.898469    0.715691       0.400099   0.585790   \n",
              "\n",
              "              Wyoming  \n",
              "Alaska       0.727932  \n",
              "Arkansas    -0.250592  \n",
              "California   0.722617  \n",
              "Colorado     0.130053  \n",
              "Connecticut  0.814971  \n",
              "\n",
              "[5 rows x 39 columns]"
            ]
          },
          "metadata": {
            "tags": []
          },
          "execution_count": 72
        }
      ]
    },
    {
      "metadata": {
        "id": "H-yUcpsvrvUI",
        "colab_type": "code",
        "colab": {}
      },
      "cell_type": "code",
      "source": [
        "min_wage_corr=act_min_wage.replace(0,np.NaN).dropna(axis=1).corr()\n",
        "for problem in issue_df[\"State\"].unique():\n",
        "  if problem in min_wage_corr.columns:\n",
        "    print(\"we are missing something here....\")\n",
        "  "
      ],
      "execution_count": 0,
      "outputs": []
    },
    {
      "metadata": {
        "id": "0_cwa5rbsyoV",
        "colab_type": "code",
        "colab": {
          "base_uri": "https://localhost:8080/",
          "height": 34
        },
        "outputId": "890595d7-d054-4bfa-bfc8-c665f3d01f05"
      },
      "cell_type": "code",
      "source": [
        "grouped_issues=issue_df.groupby(\"State\")\n",
        "grouped_issues.get_group(\"Alabama\")[\"Low.2018\"].sum()"
      ],
      "execution_count": 75,
      "outputs": [
        {
          "output_type": "execute_result",
          "data": {
            "text/plain": [
              "0.0"
            ]
          },
          "metadata": {
            "tags": []
          },
          "execution_count": 75
        }
      ]
    },
    {
      "metadata": {
        "id": "9hV9I7IXtfJj",
        "colab_type": "code",
        "colab": {}
      },
      "cell_type": "code",
      "source": [
        "for state, data in grouped_issues:\n",
        "  if data[\"Low.2018\"].sum()!=0.0:\n",
        "    print(\"we missed something\")"
      ],
      "execution_count": 0,
      "outputs": []
    },
    {
      "metadata": {
        "id": "mO3dIN_uuHKw",
        "colab_type": "code",
        "colab": {
          "base_uri": "https://localhost:8080/",
          "height": 287
        },
        "outputId": "8779a28e-962b-4b6a-acca-8b863ebf5b0b"
      },
      "cell_type": "code",
      "source": [
        "min_wage_corr.head()"
      ],
      "execution_count": 78,
      "outputs": [
        {
          "output_type": "execute_result",
          "data": {
            "text/html": [
              "<div>\n",
              "<style scoped>\n",
              "    .dataframe tbody tr th:only-of-type {\n",
              "        vertical-align: middle;\n",
              "    }\n",
              "\n",
              "    .dataframe tbody tr th {\n",
              "        vertical-align: top;\n",
              "    }\n",
              "\n",
              "    .dataframe thead th {\n",
              "        text-align: right;\n",
              "    }\n",
              "</style>\n",
              "<table border=\"1\" class=\"dataframe\">\n",
              "  <thead>\n",
              "    <tr style=\"text-align: right;\">\n",
              "      <th></th>\n",
              "      <th>Alaska</th>\n",
              "      <th>Arkansas</th>\n",
              "      <th>California</th>\n",
              "      <th>Colorado</th>\n",
              "      <th>Connecticut</th>\n",
              "      <th>Delaware</th>\n",
              "      <th>District of Columbia</th>\n",
              "      <th>Federal (FLSA)</th>\n",
              "      <th>Guam</th>\n",
              "      <th>Hawaii</th>\n",
              "      <th>...</th>\n",
              "      <th>Pennsylvania</th>\n",
              "      <th>Puerto Rico</th>\n",
              "      <th>Rhode Island</th>\n",
              "      <th>South Dakota</th>\n",
              "      <th>Utah</th>\n",
              "      <th>Vermont</th>\n",
              "      <th>Washington</th>\n",
              "      <th>West Virginia</th>\n",
              "      <th>Wisconsin</th>\n",
              "      <th>Wyoming</th>\n",
              "    </tr>\n",
              "  </thead>\n",
              "  <tbody>\n",
              "    <tr>\n",
              "      <th>Alaska</th>\n",
              "      <td>1.000000</td>\n",
              "      <td>-0.377934</td>\n",
              "      <td>0.717653</td>\n",
              "      <td>-0.129332</td>\n",
              "      <td>0.680886</td>\n",
              "      <td>0.258997</td>\n",
              "      <td>0.321785</td>\n",
              "      <td>0.637679</td>\n",
              "      <td>0.787915</td>\n",
              "      <td>0.672620</td>\n",
              "      <td>...</td>\n",
              "      <td>0.610814</td>\n",
              "      <td>-0.038118</td>\n",
              "      <td>0.652353</td>\n",
              "      <td>-0.326316</td>\n",
              "      <td>-0.020462</td>\n",
              "      <td>0.663558</td>\n",
              "      <td>0.411593</td>\n",
              "      <td>0.044814</td>\n",
              "      <td>0.702570</td>\n",
              "      <td>0.727932</td>\n",
              "    </tr>\n",
              "    <tr>\n",
              "      <th>Arkansas</th>\n",
              "      <td>-0.377934</td>\n",
              "      <td>1.000000</td>\n",
              "      <td>-0.234367</td>\n",
              "      <td>0.135749</td>\n",
              "      <td>0.047580</td>\n",
              "      <td>0.016125</td>\n",
              "      <td>0.266889</td>\n",
              "      <td>0.117245</td>\n",
              "      <td>0.039593</td>\n",
              "      <td>0.204801</td>\n",
              "      <td>...</td>\n",
              "      <td>0.159923</td>\n",
              "      <td>0.232186</td>\n",
              "      <td>0.003498</td>\n",
              "      <td>0.800116</td>\n",
              "      <td>0.194680</td>\n",
              "      <td>0.087429</td>\n",
              "      <td>-0.072343</td>\n",
              "      <td>0.420819</td>\n",
              "      <td>0.000470</td>\n",
              "      <td>-0.250592</td>\n",
              "    </tr>\n",
              "    <tr>\n",
              "      <th>California</th>\n",
              "      <td>0.717653</td>\n",
              "      <td>-0.234367</td>\n",
              "      <td>1.000000</td>\n",
              "      <td>0.483313</td>\n",
              "      <td>0.876215</td>\n",
              "      <td>0.479197</td>\n",
              "      <td>0.596865</td>\n",
              "      <td>0.371966</td>\n",
              "      <td>0.492052</td>\n",
              "      <td>0.519241</td>\n",
              "      <td>...</td>\n",
              "      <td>0.429061</td>\n",
              "      <td>0.512712</td>\n",
              "      <td>0.780916</td>\n",
              "      <td>-0.036787</td>\n",
              "      <td>0.392898</td>\n",
              "      <td>0.877922</td>\n",
              "      <td>0.754085</td>\n",
              "      <td>0.371765</td>\n",
              "      <td>0.584067</td>\n",
              "      <td>0.722617</td>\n",
              "    </tr>\n",
              "    <tr>\n",
              "      <th>Colorado</th>\n",
              "      <td>-0.129332</td>\n",
              "      <td>0.135749</td>\n",
              "      <td>0.483313</td>\n",
              "      <td>1.000000</td>\n",
              "      <td>0.402020</td>\n",
              "      <td>0.566304</td>\n",
              "      <td>0.673371</td>\n",
              "      <td>-0.232035</td>\n",
              "      <td>-0.192616</td>\n",
              "      <td>0.069800</td>\n",
              "      <td>...</td>\n",
              "      <td>-0.136195</td>\n",
              "      <td>0.657364</td>\n",
              "      <td>0.429852</td>\n",
              "      <td>0.399137</td>\n",
              "      <td>0.622330</td>\n",
              "      <td>0.448485</td>\n",
              "      <td>0.612637</td>\n",
              "      <td>0.533623</td>\n",
              "      <td>0.011501</td>\n",
              "      <td>0.130053</td>\n",
              "    </tr>\n",
              "    <tr>\n",
              "      <th>Connecticut</th>\n",
              "      <td>0.680886</td>\n",
              "      <td>0.047580</td>\n",
              "      <td>0.876215</td>\n",
              "      <td>0.402020</td>\n",
              "      <td>1.000000</td>\n",
              "      <td>0.552613</td>\n",
              "      <td>0.652488</td>\n",
              "      <td>0.487750</td>\n",
              "      <td>0.632073</td>\n",
              "      <td>0.621503</td>\n",
              "      <td>...</td>\n",
              "      <td>0.531769</td>\n",
              "      <td>0.626712</td>\n",
              "      <td>0.802485</td>\n",
              "      <td>0.105707</td>\n",
              "      <td>0.302538</td>\n",
              "      <td>0.898469</td>\n",
              "      <td>0.715691</td>\n",
              "      <td>0.400099</td>\n",
              "      <td>0.585790</td>\n",
              "      <td>0.814971</td>\n",
              "    </tr>\n",
              "  </tbody>\n",
              "</table>\n",
              "<p>5 rows × 39 columns</p>\n",
              "</div>"
            ],
            "text/plain": [
              "               Alaska  Arkansas  California  Colorado  Connecticut  Delaware  \\\n",
              "Alaska       1.000000 -0.377934    0.717653 -0.129332     0.680886  0.258997   \n",
              "Arkansas    -0.377934  1.000000   -0.234367  0.135749     0.047580  0.016125   \n",
              "California   0.717653 -0.234367    1.000000  0.483313     0.876215  0.479197   \n",
              "Colorado    -0.129332  0.135749    0.483313  1.000000     0.402020  0.566304   \n",
              "Connecticut  0.680886  0.047580    0.876215  0.402020     1.000000  0.552613   \n",
              "\n",
              "             District of Columbia  Federal (FLSA)      Guam    Hawaii  \\\n",
              "Alaska                   0.321785        0.637679  0.787915  0.672620   \n",
              "Arkansas                 0.266889        0.117245  0.039593  0.204801   \n",
              "California               0.596865        0.371966  0.492052  0.519241   \n",
              "Colorado                 0.673371       -0.232035 -0.192616  0.069800   \n",
              "Connecticut              0.652488        0.487750  0.632073  0.621503   \n",
              "\n",
              "               ...     Pennsylvania  Puerto Rico  Rhode Island  South Dakota  \\\n",
              "Alaska         ...         0.610814    -0.038118      0.652353     -0.326316   \n",
              "Arkansas       ...         0.159923     0.232186      0.003498      0.800116   \n",
              "California     ...         0.429061     0.512712      0.780916     -0.036787   \n",
              "Colorado       ...        -0.136195     0.657364      0.429852      0.399137   \n",
              "Connecticut    ...         0.531769     0.626712      0.802485      0.105707   \n",
              "\n",
              "                 Utah   Vermont  Washington  West Virginia  Wisconsin  \\\n",
              "Alaska      -0.020462  0.663558    0.411593       0.044814   0.702570   \n",
              "Arkansas     0.194680  0.087429   -0.072343       0.420819   0.000470   \n",
              "California   0.392898  0.877922    0.754085       0.371765   0.584067   \n",
              "Colorado     0.622330  0.448485    0.612637       0.533623   0.011501   \n",
              "Connecticut  0.302538  0.898469    0.715691       0.400099   0.585790   \n",
              "\n",
              "              Wyoming  \n",
              "Alaska       0.727932  \n",
              "Arkansas    -0.250592  \n",
              "California   0.722617  \n",
              "Colorado     0.130053  \n",
              "Connecticut  0.814971  \n",
              "\n",
              "[5 rows x 39 columns]"
            ]
          },
          "metadata": {
            "tags": []
          },
          "execution_count": 78
        }
      ]
    },
    {
      "metadata": {
        "id": "w7OyNT2vunvU",
        "colab_type": "code",
        "colab": {
          "base_uri": "https://localhost:8080/",
          "height": 372
        },
        "outputId": "a476e6f5-75b6-4782-af55-493a34f8eb95"
      },
      "cell_type": "code",
      "source": [
        "plt.matshow(min_wage_corr)"
      ],
      "execution_count": 79,
      "outputs": [
        {
          "output_type": "execute_result",
          "data": {
            "text/plain": [
              "<matplotlib.image.AxesImage at 0x7fd8cace9518>"
            ]
          },
          "metadata": {
            "tags": []
          },
          "execution_count": 79
        },
        {
          "output_type": "display_data",
          "data": {
            "image/png": "[encoded data removed]",
            "text/plain": [
              "<Figure size 396x396 with 1 Axes>"
            ]
          },
          "metadata": {
            "tags": []
          }
        }
      ]
    },
    {
      "metadata": {
        "id": "ybD5lAPAus8r",
        "colab_type": "code",
        "colab": {
          "base_uri": "https://localhost:8080/",
          "height": 718
        },
        "outputId": "ff96dfab-0e2f-47b6-e2de-a2ed170271cb"
      },
      "cell_type": "code",
      "source": [
        "labels=[c for c in min_wage_corr.columns]\n",
        "fig=plt.figure(figsize=(12,20))\n",
        "ax=fig.add_subplot(111)\n",
        "ax.matshow(min_wage_corr,cmap=plt.cm.RdYlGn)\n",
        "ax.set_xticks(np.arange(len(labels)))\n",
        "ax.set_yticks(np.arange(len(labels)))\n",
        "ax.set_yticklabels(labels)\n",
        "ax.set_xticklabels(labels)\n",
        "plt.show()"
      ],
      "execution_count": 84,
      "outputs": [
        {
          "output_type": "display_data",
          "data": {
            "image/png": "[encoded data removed]",
            "text/plain": [
              "<Figure size 864x1440 with 1 Axes>"
            ]
          },
          "metadata": {
            "tags": []
          }
        }
      ]
    },
    {
      "metadata": {
        "id": "DyQm4WTIzgz4",
        "colab_type": "code",
        "colab": {}
      },
      "cell_type": "code",
      "source": [
        "import bs4"
      ],
      "execution_count": 0,
      "outputs": []
    },
    {
      "metadata": {
        "id": "B813sBruvlJH",
        "colab_type": "code",
        "colab": {}
      },
      "cell_type": "code",
      "source": [
        "dfs=pd.read_html(\"https://www.infoplease.com/state-abbreviations-and-state-postal-codes\")"
      ],
      "execution_count": 0,
      "outputs": []
    },
    {
      "metadata": {
        "id": "LY6HfOCLz5LA",
        "colab_type": "code",
        "colab": {
          "base_uri": "https://localhost:8080/",
          "height": 221
        },
        "outputId": "a3883e0e-9e0f-46d6-9907-0787511cccf3"
      },
      "cell_type": "code",
      "source": [
        "for df in dfs:\n",
        "  print(df.head())"
      ],
      "execution_count": 91,
      "outputs": [
        {
          "output_type": "stream",
          "text": [
            "  State/District Abbreviation Postal Code\n",
            "0        Alabama         Ala.          AL\n",
            "1         Alaska       Alaska          AK\n",
            "2        Arizona        Ariz.          AZ\n",
            "3       Arkansas         Ark.          AR\n",
            "4     California       Calif.          CA\n",
            "  Territory/Associate Abbreviation Postal Code\n",
            "0      American Samoa          NaN          AS\n",
            "1                Guam         Guam          GU\n",
            "2    Marshall Islands          NaN          MH\n",
            "3          Micronesia          NaN          FM\n",
            "4   Northern Marianas          NaN          MP\n"
          ],
          "name": "stdout"
        }
      ]
    },
    {
      "metadata": {
        "id": "rhmIbiD0z9q8",
        "colab_type": "code",
        "colab": {
          "base_uri": "https://localhost:8080/",
          "height": 235
        },
        "outputId": "a58a2f89-4057-40b2-c753-bd51b32e3904"
      },
      "cell_type": "code",
      "source": [
        "state_abbv=dfs[0].set_index(dfs[0][\"State/District\"])\n",
        "state_abbv.head()"
      ],
      "execution_count": 97,
      "outputs": [
        {
          "output_type": "execute_result",
          "data": {
            "text/html": [
              "<div>\n",
              "<style scoped>\n",
              "    .dataframe tbody tr th:only-of-type {\n",
              "        vertical-align: middle;\n",
              "    }\n",
              "\n",
              "    .dataframe tbody tr th {\n",
              "        vertical-align: top;\n",
              "    }\n",
              "\n",
              "    .dataframe thead th {\n",
              "        text-align: right;\n",
              "    }\n",
              "</style>\n",
              "<table border=\"1\" class=\"dataframe\">\n",
              "  <thead>\n",
              "    <tr style=\"text-align: right;\">\n",
              "      <th></th>\n",
              "      <th>State/District</th>\n",
              "      <th>Abbreviation</th>\n",
              "      <th>Postal Code</th>\n",
              "    </tr>\n",
              "    <tr>\n",
              "      <th>State/District</th>\n",
              "      <th></th>\n",
              "      <th></th>\n",
              "      <th></th>\n",
              "    </tr>\n",
              "  </thead>\n",
              "  <tbody>\n",
              "    <tr>\n",
              "      <th>Alabama</th>\n",
              "      <td>Alabama</td>\n",
              "      <td>Ala.</td>\n",
              "      <td>AL</td>\n",
              "    </tr>\n",
              "    <tr>\n",
              "      <th>Alaska</th>\n",
              "      <td>Alaska</td>\n",
              "      <td>Alaska</td>\n",
              "      <td>AK</td>\n",
              "    </tr>\n",
              "    <tr>\n",
              "      <th>Arizona</th>\n",
              "      <td>Arizona</td>\n",
              "      <td>Ariz.</td>\n",
              "      <td>AZ</td>\n",
              "    </tr>\n",
              "    <tr>\n",
              "      <th>Arkansas</th>\n",
              "      <td>Arkansas</td>\n",
              "      <td>Ark.</td>\n",
              "      <td>AR</td>\n",
              "    </tr>\n",
              "    <tr>\n",
              "      <th>California</th>\n",
              "      <td>California</td>\n",
              "      <td>Calif.</td>\n",
              "      <td>CA</td>\n",
              "    </tr>\n",
              "  </tbody>\n",
              "</table>\n",
              "</div>"
            ],
            "text/plain": [
              "               State/District Abbreviation Postal Code\n",
              "State/District                                        \n",
              "Alabama               Alabama         Ala.          AL\n",
              "Alaska                 Alaska       Alaska          AK\n",
              "Arizona               Arizona        Ariz.          AZ\n",
              "Arkansas             Arkansas         Ark.          AR\n",
              "California         California       Calif.          CA"
            ]
          },
          "metadata": {
            "tags": []
          },
          "execution_count": 97
        }
      ]
    },
    {
      "metadata": {
        "id": "WqiA1T950nIV",
        "colab_type": "code",
        "colab": {
          "base_uri": "https://localhost:8080/",
          "height": 884
        },
        "outputId": "1aad8ab8-2a27-4dd3-9d43-7d2fb3333543"
      },
      "cell_type": "code",
      "source": [
        "abbv_dict=state_abbv[\"Postal Code\"].to_dict()\n",
        "abbv_dict"
      ],
      "execution_count": 104,
      "outputs": [
        {
          "output_type": "execute_result",
          "data": {
            "text/plain": [
              "{'Alabama': 'AL',\n",
              " 'Alaska': 'AK',\n",
              " 'Arizona': 'AZ',\n",
              " 'Arkansas': 'AR',\n",
              " 'California': 'CA',\n",
              " 'Colorado': 'CO',\n",
              " 'Connecticut': 'CT',\n",
              " 'Delaware': 'DE',\n",
              " 'District of Columbia': 'DC',\n",
              " 'Florida': 'FL',\n",
              " 'Georgia': 'GA',\n",
              " 'Hawaii': 'HI',\n",
              " 'Idaho': 'ID',\n",
              " 'Illinois': 'IL',\n",
              " 'Indiana': 'IN',\n",
              " 'Iowa': 'IA',\n",
              " 'Kansas': 'KS',\n",
              " 'Kentucky': 'KY',\n",
              " 'Louisiana': 'LA',\n",
              " 'Maine': 'ME',\n",
              " 'Maryland': 'MD',\n",
              " 'Massachusetts': 'MA',\n",
              " 'Michigan': 'MI',\n",
              " 'Minnesota': 'MN',\n",
              " 'Mississippi': 'MS',\n",
              " 'Missouri': 'MO',\n",
              " 'Montana': 'MT',\n",
              " 'Nebraska': 'NE',\n",
              " 'Nevada': 'NV',\n",
              " 'New Hampshire': 'NH',\n",
              " 'New Jersey': 'NJ',\n",
              " 'New Mexico': 'NM',\n",
              " 'New York': 'NY',\n",
              " 'North Carolina': 'NC',\n",
              " 'North Dakota': 'ND',\n",
              " 'Ohio': 'OH',\n",
              " 'Oklahoma': 'OK',\n",
              " 'Oregon': 'OR',\n",
              " 'Pennsylvania': 'PA',\n",
              " 'Rhode Island': 'RI',\n",
              " 'South Carolina': 'SC',\n",
              " 'South Dakota': 'SD',\n",
              " 'Tennessee': 'TN',\n",
              " 'Texas': 'TX',\n",
              " 'Utah': 'UT',\n",
              " 'Vermont': 'VT',\n",
              " 'Virginia': 'VA',\n",
              " 'Washington': 'WA',\n",
              " 'West Virginia': 'WV',\n",
              " 'Wisconsin': 'WI',\n",
              " 'Wyoming': 'WY'}"
            ]
          },
          "metadata": {
            "tags": []
          },
          "execution_count": 104
        }
      ]
    },
    {
      "metadata": {
        "id": "iyDcdhD81pqw",
        "colab_type": "code",
        "colab": {}
      },
      "cell_type": "code",
      "source": [
        "\n",
        "abbv_dict[\"Federal (FLSA)\"]=\"FSL\"\n",
        "abbv_dict[\"Guam\"]=\"Gu\"\n",
        "abbv_dict[\"Puerto Rico\"]=\"Por\"\n",
        "\n",
        "labels=[abbv_dict[c] for c in min_wage_corr.columns]\n"
      ],
      "execution_count": 0,
      "outputs": []
    },
    {
      "metadata": {
        "id": "yvhqKh0a3Uwz",
        "colab_type": "code",
        "colab": {
          "base_uri": "https://localhost:8080/",
          "height": 718
        },
        "outputId": "dd675dda-00a6-4e12-c227-7bbd1f18aa92"
      },
      "cell_type": "code",
      "source": [
        "fig=plt.figure(figsize=(12,20))\n",
        "ax=fig.add_subplot(111)\n",
        "ax.matshow(min_wage_corr,cmap=plt.cm.RdYlGn)\n",
        "ax.set_xticks(np.arange(len(labels)))\n",
        "ax.set_yticks(np.arange(len(labels)))\n",
        "ax.set_yticklabels(labels)\n",
        "ax.set_xticklabels(labels)\n",
        "plt.show()"
      ],
      "execution_count": 109,
      "outputs": [
        {
          "output_type": "display_data",
          "data": {
            "image/png": "[encoded data removed]",
            "text/plain": [
              "<Figure size 864x1440 with 1 Axes>"
            ]
          },
          "metadata": {
            "tags": []
          }
        }
      ]
    },
    {
      "metadata": {
        "id": "31aP8fmO5unc",
        "colab_type": "code",
        "colab": {}
      },
      "cell_type": "code",
      "source": [
        ""
      ],
      "execution_count": 0,
      "outputs": []
    }
  ]
}